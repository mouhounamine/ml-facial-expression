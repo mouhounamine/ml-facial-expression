# predict.py : Ce script utilise un mod�le entra�n� pour pr�dire l'�motion sur une image donn�e.
                        