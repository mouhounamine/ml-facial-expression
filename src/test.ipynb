# test.py : Ce script charge un mod�le entra�n� et �value sa performance sur les donn�es de test.
                        