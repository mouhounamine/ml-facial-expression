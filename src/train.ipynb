# train.py : Ce script g�re l'entra�nement du mod�le.
# Il charge les donn�es, entra�ne ResEmoteNet et enregistre le mod�le entra�n�.
                        